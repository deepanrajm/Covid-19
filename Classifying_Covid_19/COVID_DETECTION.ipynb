{
  "nbformat": 4,
  "nbformat_minor": 0,
  "metadata": {
    "kernelspec": {
      "display_name": "Python 3",
      "language": "python",
      "name": "python3"
    },
    "language_info": {
      "codemirror_mode": {
        "name": "ipython",
        "version": 3
      },
      "file_extension": ".py",
      "mimetype": "text/x-python",
      "name": "python",
      "nbconvert_exporter": "python",
      "pygments_lexer": "ipython3",
      "version": "3.6.9"
    },
    "colab": {
      "name": "COVID-DETECTION.ipynb",
      "provenance": [],
      "collapsed_sections": []
    },
    "accelerator": "GPU"
  },
  "cells": [
    {
      "cell_type": "code",
      "metadata": {
        "id": "N45lekqqlVVW"
      },
      "source": [
        "!git clone https://github.com/deepanrajm/Covid-19.git"
      ],
      "execution_count": null,
      "outputs": []
    },
    {
      "cell_type": "code",
      "metadata": {
        "id": "VGqJfD7Tlhf7"
      },
      "source": [
        "!pip uninstall -y tensorflow keras"
      ],
      "execution_count": null,
      "outputs": []
    },
    {
      "cell_type": "code",
      "metadata": {
        "id": "7KaqND3_lkpx"
      },
      "source": [
        "!pip install tensorflow==1.14 keras==2.1.2"
      ],
      "execution_count": null,
      "outputs": []
    },
    {
      "cell_type": "code",
      "metadata": {
        "id": "sjugu680yxWN"
      },
      "source": [
        "from keras.models import Sequential\n",
        "from keras.layers import Conv2D\n",
        "from keras.layers import MaxPooling2D\n",
        "from keras.layers import Flatten\n",
        "from keras.layers import Dense\n",
        "import matplotlib.image as mpimg\n",
        "import numpy as np\n",
        "import matplotlib.pyplot as plt\n",
        "import cv2\n",
        "from keras.preprocessing import image\n",
        "from keras.preprocessing.image import ImageDataGenerator"
      ],
      "execution_count": null,
      "outputs": []
    },
    {
      "cell_type": "code",
      "metadata": {
        "id": "oV8S79DYyxWT"
      },
      "source": [
        "# Initialising the CNN\n",
        "classifier = Sequential()\n",
        "\n",
        "# Convolution\n",
        "classifier.add(Conv2D(32, (3, 3), input_shape = (64, 64, 3), activation = 'relu'))\n",
        "\n",
        "# Pooling\n",
        "classifier.add(MaxPooling2D(pool_size = (2, 2)))\n",
        "\n",
        "# Adding a second convolutional layer\n",
        "classifier.add(Conv2D(32, (3, 3), activation = 'relu'))\n",
        "classifier.add(MaxPooling2D(pool_size = (2, 2)))\n",
        "\n",
        "# Flattening\n",
        "classifier.add(Flatten())\n",
        "\n",
        "# Full connection\n",
        "classifier.add(Dense(units = 128, activation = 'relu'))\n",
        "classifier.add(Dense(units = 1, activation = 'sigmoid'))\n",
        "\n",
        "# Compiling the CNN\n",
        "classifier.compile(optimizer = 'adam', loss = 'binary_crossentropy', metrics = ['accuracy'])\n",
        "\n",
        "# Fitting the CNN to the images\n",
        "\n",
        "train_datagen = ImageDataGenerator(rescale = 1./255,\n",
        "                                   shear_range = 0.2,\n",
        "                                   zoom_range = 0.2,\n",
        "                                   horizontal_flip = True)\n",
        "\n",
        "test_datagen = ImageDataGenerator(rescale = 1./255)\n",
        "\n",
        "training_set = train_datagen.flow_from_directory('Covid-19/Classifying_Covid_19/training_dataset',\n",
        "                                                 target_size = (64, 64),\n",
        "                                                 batch_size = 32,\n",
        "                                                 class_mode = 'binary')\n",
        "\n",
        "\n",
        "\n",
        "classifier.fit_generator(training_set,\n",
        "                         steps_per_epoch = 200,\n",
        "                         epochs = 3)"
      ],
      "execution_count": null,
      "outputs": []
    },
    {
      "cell_type": "code",
      "metadata": {
        "id": "lp7sRI1hyxWY"
      },
      "source": [
        "img_src = 'Covid-19/Classifying_Covid_19/test_dataset/Covid.jpeg'\n",
        "img = cv2.imread(img_src)\n",
        "\n",
        "img_pred = image.load_img('Covid-19/Classifying_Covid_19/test_dataset/Covid.jpeg', target_size = (64, 64))\n",
        "img_pred = image.img_to_array(img_pred)\n",
        "img_pred = np.expand_dims(img_pred, axis = 0)\n",
        "rslt = classifier.predict(img_pred)\n",
        "\n",
        "ind = training_set.class_indices\n",
        "\n",
        "if rslt[0][0] == 1:\n",
        "    prediction = \"Normal\"\n",
        "else:\n",
        "    prediction = \"COVID\"\n",
        "\n",
        "target_width = 50\n",
        "target_height = 50\n",
        "target_size = (target_width, target_height)\n",
        "\n",
        "img = cv2.resize(img, target_size)\n",
        "img = img.reshape(1, target_width, target_height, 3)\n",
        "\n",
        "\n",
        "fig, ax = plt.subplots()\n",
        "fig.suptitle(prediction, fontsize=12)\n",
        "\n",
        "np_img = mpimg.imread(img_src)\n",
        "plt.imshow(np_img)\n",
        "print (\"Predection - \",prediction) "
      ],
      "execution_count": null,
      "outputs": []
    },
    {
      "cell_type": "code",
      "metadata": {
        "id": "jZyb6AlsyxWc"
      },
      "source": [
        "img_src = 'Covid-19/Classifying_Covid_19/test_dataset/Normal.jpeg'\n",
        "img = cv2.imread(img_src)\n",
        "\n",
        "img_pred = image.load_img('Covid-19/Classifying_Covid_19/test_dataset/Normal.jpeg', target_size = (64, 64))\n",
        "img_pred = image.img_to_array(img_pred)\n",
        "img_pred = np.expand_dims(img_pred, axis = 0)\n",
        "rslt = classifier.predict(img_pred)\n",
        "\n",
        "ind = training_set.class_indices\n",
        "\n",
        "if rslt[0][0] == 1:\n",
        "    prediction = \"Normal\"\n",
        "else:\n",
        "    prediction = \"COVID\"\n",
        "\n",
        "target_width = 50\n",
        "target_height = 50\n",
        "target_size = (target_width, target_height)\n",
        "\n",
        "img = cv2.resize(img, target_size)\n",
        "img = img.reshape(1, target_width, target_height, 3)\n",
        "\n",
        "\n",
        "fig, ax = plt.subplots()\n",
        "fig.suptitle(prediction, fontsize=12)\n",
        "\n",
        "np_img = mpimg.imread(img_src)\n",
        "plt.imshow(np_img)\n",
        "print (\"Predection - \",prediction) "
      ],
      "execution_count": null,
      "outputs": []
    }
  ]
}